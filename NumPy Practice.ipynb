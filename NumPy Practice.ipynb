{
 "cells": [
  {
   "cell_type": "markdown",
   "id": "52575daa-366f-4056-9c32-f65d446a3236",
   "metadata": {},
   "source": [
    "# Welcome to NumPy"
   ]
  },
  {
   "cell_type": "code",
   "execution_count": 1,
   "id": "0e78b062-4bb2-4b64-9740-9f4a3e57db71",
   "metadata": {},
   "outputs": [],
   "source": [
    "import numpy as np"
   ]
  },
  {
   "cell_type": "markdown",
   "id": "40e5cbf8-320e-4a70-9540-5e4470383f05",
   "metadata": {},
   "source": [
    "***simple numpy array***"
   ]
  },
  {
   "cell_type": "code",
   "execution_count": 2,
   "id": "7280a461-774d-46f2-8a10-b653d4bb6da3",
   "metadata": {},
   "outputs": [],
   "source": [
    "n1 = np.array([3, 27, 32, 377])"
   ]
  },
  {
   "cell_type": "code",
   "execution_count": 3,
   "id": "48bab428-394b-496b-a26a-6f5cfd672efe",
   "metadata": {},
   "outputs": [
    {
     "data": {
      "text/plain": [
       "array([  3,  27,  32, 377])"
      ]
     },
     "execution_count": 3,
     "metadata": {},
     "output_type": "execute_result"
    }
   ],
   "source": [
    "n1"
   ]
  },
  {
   "cell_type": "markdown",
   "id": "05e8740f-94d3-45a2-b43c-e235e9bb052c",
   "metadata": {},
   "source": [
    "***dataype/ memory controlled array***"
   ]
  },
  {
   "cell_type": "code",
   "execution_count": 4,
   "id": "7040fc3d-d7bd-4cf5-859a-5d63fce45ccf",
   "metadata": {},
   "outputs": [],
   "source": [
    "n2 = np.array([3, 3777, 34, 2], np.int32)"
   ]
  },
  {
   "cell_type": "code",
   "execution_count": 5,
   "id": "4caa9df2-e651-4fc5-9987-992b92a07332",
   "metadata": {},
   "outputs": [
    {
     "data": {
      "text/plain": [
       "array([   3, 3777,   34,    2])"
      ]
     },
     "execution_count": 5,
     "metadata": {},
     "output_type": "execute_result"
    }
   ],
   "source": [
    "n2"
   ]
  },
  {
   "cell_type": "markdown",
   "id": "03c3f243-c07f-4f4d-8c4b-edff7718cba3",
   "metadata": {},
   "source": [
    "***2-d array***"
   ]
  },
  {
   "cell_type": "code",
   "execution_count": 6,
   "id": "68271fd0-57ca-4910-802d-9d667b4be908",
   "metadata": {},
   "outputs": [],
   "source": [
    "n3 = np.array([[2, 34, 25], [3, 4, 5]])"
   ]
  },
  {
   "cell_type": "code",
   "execution_count": 7,
   "id": "01941970-b735-47eb-822f-e680cbd34a6c",
   "metadata": {},
   "outputs": [
    {
     "data": {
      "text/plain": [
       "array([[ 2, 34, 25],\n",
       "       [ 3,  4,  5]])"
      ]
     },
     "execution_count": 7,
     "metadata": {},
     "output_type": "execute_result"
    }
   ],
   "source": [
    "n3"
   ]
  },
  {
   "cell_type": "markdown",
   "id": "75d0a847-08c3-44b2-af57-394fef13c09f",
   "metadata": {},
   "source": [
    "***shape***"
   ]
  },
  {
   "cell_type": "code",
   "execution_count": 8,
   "id": "632bb36f-f5dc-49b7-94ff-7eab38715c6c",
   "metadata": {},
   "outputs": [
    {
     "data": {
      "text/plain": [
       "(2, 3)"
      ]
     },
     "execution_count": 8,
     "metadata": {},
     "output_type": "execute_result"
    }
   ],
   "source": [
    "n3.shape"
   ]
  },
  {
   "cell_type": "markdown",
   "id": "7d94ceff-8a2c-4539-af02-453cf7b07bdc",
   "metadata": {},
   "source": [
    "***to alter the shape***"
   ]
  },
  {
   "cell_type": "code",
   "execution_count": 9,
   "id": "c5c89218-bdf2-4b5c-93a2-0bb49e5e1cbb",
   "metadata": {},
   "outputs": [],
   "source": [
    "n3.shape = (3, 2)"
   ]
  },
  {
   "cell_type": "code",
   "execution_count": 10,
   "id": "0c919b50-6703-4d4d-96e0-7e31788d5f5a",
   "metadata": {},
   "outputs": [
    {
     "data": {
      "text/plain": [
       "array([[ 2, 34],\n",
       "       [25,  3],\n",
       "       [ 4,  5]])"
      ]
     },
     "execution_count": 10,
     "metadata": {},
     "output_type": "execute_result"
    }
   ],
   "source": [
    "n3"
   ]
  },
  {
   "cell_type": "markdown",
   "id": "1400f84f-4151-4523-b1c2-3076a27d38d7",
   "metadata": {},
   "source": [
    "***to check the datatype or memory***"
   ]
  },
  {
   "cell_type": "code",
   "execution_count": 11,
   "id": "b737f5f9-1d90-4369-88c4-b0e2d273267f",
   "metadata": {},
   "outputs": [
    {
     "data": {
      "text/plain": [
       "dtype('int32')"
      ]
     },
     "execution_count": 11,
     "metadata": {},
     "output_type": "execute_result"
    }
   ],
   "source": [
    "n3.dtype"
   ]
  },
  {
   "cell_type": "markdown",
   "id": "b668f6e2-7245-40bd-95ab-20e5e9a9c029",
   "metadata": {},
   "source": [
    "***to edit the data of array or specific located data inside a list***"
   ]
  },
  {
   "cell_type": "code",
   "execution_count": 12,
   "id": "8bcc0b6a-9016-4040-8bfa-fd01392df613",
   "metadata": {},
   "outputs": [
    {
     "data": {
      "text/plain": [
       "34"
      ]
     },
     "execution_count": 12,
     "metadata": {},
     "output_type": "execute_result"
    }
   ],
   "source": [
    "n3[0,1]"
   ]
  },
  {
   "cell_type": "code",
   "execution_count": 13,
   "id": "94a012af-6617-49fa-bb26-efcc2096971f",
   "metadata": {},
   "outputs": [],
   "source": [
    "n3[0,1] = 2"
   ]
  },
  {
   "cell_type": "code",
   "execution_count": 14,
   "id": "bcdf49ca-f5e5-4c97-a5c6-026611f0c3bc",
   "metadata": {},
   "outputs": [
    {
     "data": {
      "text/plain": [
       "2"
      ]
     },
     "execution_count": 14,
     "metadata": {},
     "output_type": "execute_result"
    }
   ],
   "source": [
    "n3[0, 1]"
   ]
  },
  {
   "cell_type": "markdown",
   "id": "01f87667-c939-400a-9b17-4efd2df8f86d",
   "metadata": {},
   "source": [
    "***initializing arrays of zeros***"
   ]
  },
  {
   "cell_type": "code",
   "execution_count": 15,
   "id": "ec5dd2c9-fa1c-4c7c-895e-51a37008ee28",
   "metadata": {},
   "outputs": [],
   "source": [
    "n4 = np.zeros((2,2))"
   ]
  },
  {
   "cell_type": "code",
   "execution_count": 16,
   "id": "f615fb73-ae41-41f3-914e-5ee04e59ce03",
   "metadata": {},
   "outputs": [
    {
     "data": {
      "text/plain": [
       "array([[0., 0.],\n",
       "       [0., 0.]])"
      ]
     },
     "execution_count": 16,
     "metadata": {},
     "output_type": "execute_result"
    }
   ],
   "source": [
    "n4"
   ]
  },
  {
   "cell_type": "markdown",
   "id": "69a41961-3f4a-4015-8641-6d8f92af93df",
   "metadata": {},
   "source": [
    "***initializing array with same values***"
   ]
  },
  {
   "cell_type": "code",
   "execution_count": 17,
   "id": "26e69f8c-22bc-4317-9404-f068f6adcd31",
   "metadata": {},
   "outputs": [],
   "source": [
    "n5 = np.full((2, 2), 10)"
   ]
  },
  {
   "cell_type": "code",
   "execution_count": 18,
   "id": "8300a79f-e05d-4e2c-b844-4a7817bf29e0",
   "metadata": {},
   "outputs": [
    {
     "data": {
      "text/plain": [
       "array([[10, 10],\n",
       "       [10, 10]])"
      ]
     },
     "execution_count": 18,
     "metadata": {},
     "output_type": "execute_result"
    }
   ],
   "source": [
    "n5"
   ]
  },
  {
   "cell_type": "markdown",
   "id": "dfc055ca-c535-40d4-8879-6aae1d2c1bb8",
   "metadata": {},
   "source": [
    "***initializing array within the range of numbers***"
   ]
  },
  {
   "cell_type": "code",
   "execution_count": 19,
   "id": "57c1175b-150b-4321-a32c-bf79a1a7504f",
   "metadata": {},
   "outputs": [],
   "source": [
    "n6 = np.arange(1,10)"
   ]
  },
  {
   "cell_type": "code",
   "execution_count": 20,
   "id": "b7d9adc0-7617-4e9f-85a7-034699195597",
   "metadata": {},
   "outputs": [
    {
     "data": {
      "text/plain": [
       "array([1, 2, 3, 4, 5, 6, 7, 8, 9])"
      ]
     },
     "execution_count": 20,
     "metadata": {},
     "output_type": "execute_result"
    }
   ],
   "source": [
    "n6"
   ]
  },
  {
   "cell_type": "code",
   "execution_count": 21,
   "id": "92ea78ed-6f79-4a43-b057-8727e6e430ca",
   "metadata": {},
   "outputs": [],
   "source": [
    "n6 = np.arange(1, 11, 2)"
   ]
  },
  {
   "cell_type": "code",
   "execution_count": 22,
   "id": "e1bde1cf-d228-4ebc-baf2-929b001007ad",
   "metadata": {},
   "outputs": [
    {
     "data": {
      "text/plain": [
       "array([1, 3, 5, 7, 9])"
      ]
     },
     "execution_count": 22,
     "metadata": {},
     "output_type": "execute_result"
    }
   ],
   "source": [
    "n6"
   ]
  },
  {
   "cell_type": "markdown",
   "id": "086efdcc-7ff8-41ce-8832-c09aabb21ac1",
   "metadata": {},
   "source": [
    "***initializing array with random numbers***"
   ]
  },
  {
   "cell_type": "code",
   "execution_count": 23,
   "id": "8d2d36d2-7e81-4b06-ab49-c2161156e0b1",
   "metadata": {},
   "outputs": [],
   "source": [
    "n7 = np.random.randint(1, 10, 5)"
   ]
  },
  {
   "cell_type": "code",
   "execution_count": 24,
   "id": "22b3bc11-29d8-461c-88ec-9fc80e9ce5bd",
   "metadata": {},
   "outputs": [
    {
     "data": {
      "text/plain": [
       "array([6, 2, 5, 7, 7])"
      ]
     },
     "execution_count": 24,
     "metadata": {},
     "output_type": "execute_result"
    }
   ],
   "source": [
    "n7"
   ]
  },
  {
   "cell_type": "markdown",
   "id": "617fe2f3-fdc5-4bf0-bce4-bca3087106f1",
   "metadata": {},
   "source": [
    "***vertically stacking arrays***"
   ]
  },
  {
   "cell_type": "code",
   "execution_count": 25,
   "id": "9c9bece2-a136-4e56-ac51-af4b8b58af6d",
   "metadata": {},
   "outputs": [],
   "source": [
    "n1 = np.array([1, 2, 3])"
   ]
  },
  {
   "cell_type": "code",
   "execution_count": 26,
   "id": "aa586ea2-a452-42d5-befa-1883d62c1bd6",
   "metadata": {},
   "outputs": [],
   "source": [
    "n2 = np.array([4, 5, 6])"
   ]
  },
  {
   "cell_type": "code",
   "execution_count": 27,
   "id": "5dc3c598-1e68-4064-aaa6-90d2dc79b545",
   "metadata": {},
   "outputs": [
    {
     "data": {
      "text/plain": [
       "array([[1, 2, 3],\n",
       "       [4, 5, 6]])"
      ]
     },
     "execution_count": 27,
     "metadata": {},
     "output_type": "execute_result"
    }
   ],
   "source": [
    "np.vstack((n1, n2))"
   ]
  },
  {
   "cell_type": "markdown",
   "id": "dccf344e-1b1a-43b8-b6b3-79b46c5571f6",
   "metadata": {},
   "source": [
    "***horizontally stacking arrays***"
   ]
  },
  {
   "cell_type": "code",
   "execution_count": 28,
   "id": "95e7838b-cd23-4d66-b2f4-a35ea28d44ba",
   "metadata": {},
   "outputs": [
    {
     "data": {
      "text/plain": [
       "array([1, 2, 3, 4, 5, 6])"
      ]
     },
     "execution_count": 28,
     "metadata": {},
     "output_type": "execute_result"
    }
   ],
   "source": [
    "np.hstack((n1, n2))"
   ]
  },
  {
   "cell_type": "markdown",
   "id": "62234732-2f81-4677-a258-56d63b25f647",
   "metadata": {},
   "source": [
    "***column stacking of arrays***"
   ]
  },
  {
   "cell_type": "code",
   "execution_count": 29,
   "id": "a4357936-8655-4cd7-ae1a-eee9e2922493",
   "metadata": {},
   "outputs": [
    {
     "data": {
      "text/plain": [
       "array([[1, 4],\n",
       "       [2, 5],\n",
       "       [3, 6]])"
      ]
     },
     "execution_count": 29,
     "metadata": {},
     "output_type": "execute_result"
    }
   ],
   "source": [
    "np.column_stack((n1, n2))"
   ]
  },
  {
   "cell_type": "markdown",
   "id": "64f2c56d-faec-4894-b828-9299364118f1",
   "metadata": {},
   "source": [
    "***common elements of 2 arrays***"
   ]
  },
  {
   "cell_type": "code",
   "execution_count": 30,
   "id": "2bc4dc29-10e3-427d-803f-72ead0b16121",
   "metadata": {},
   "outputs": [],
   "source": [
    "n1 = np.array([1, 2, 3, 4])"
   ]
  },
  {
   "cell_type": "code",
   "execution_count": 31,
   "id": "a2ac3c8f-5661-43f5-870c-69bf824a1f65",
   "metadata": {},
   "outputs": [],
   "source": [
    "n2 = np.array([2, 3, 5, 6])"
   ]
  },
  {
   "cell_type": "code",
   "execution_count": 32,
   "id": "b530e694-2ef9-426a-9c6f-acc1525c555a",
   "metadata": {},
   "outputs": [
    {
     "data": {
      "text/plain": [
       "array([2, 3])"
      ]
     },
     "execution_count": 32,
     "metadata": {},
     "output_type": "execute_result"
    }
   ],
   "source": [
    "np.intersect1d(n1, n2)"
   ]
  },
  {
   "cell_type": "markdown",
   "id": "d646666f-f43a-48d5-8399-656a1d14d603",
   "metadata": {},
   "source": [
    "***elements that are not common or unique***"
   ]
  },
  {
   "cell_type": "code",
   "execution_count": 33,
   "id": "0c5830e7-34a6-4462-989b-ee4d0ce44774",
   "metadata": {},
   "outputs": [
    {
     "data": {
      "text/plain": [
       "array([1, 4])"
      ]
     },
     "execution_count": 33,
     "metadata": {},
     "output_type": "execute_result"
    }
   ],
   "source": [
    "np.setdiff1d(n1, n2)"
   ]
  },
  {
   "cell_type": "code",
   "execution_count": 34,
   "id": "1d583ea7-175d-46e5-8381-c6215ea0d056",
   "metadata": {},
   "outputs": [
    {
     "data": {
      "text/plain": [
       "array([5, 6])"
      ]
     },
     "execution_count": 34,
     "metadata": {},
     "output_type": "execute_result"
    }
   ],
   "source": [
    "np.setdiff1d(n2, n1)"
   ]
  },
  {
   "cell_type": "markdown",
   "id": "cf8dfc85-4bda-456d-9162-5c91375acfe4",
   "metadata": {},
   "source": [
    "***addition***"
   ]
  },
  {
   "cell_type": "code",
   "execution_count": 35,
   "id": "20960c1c-1f01-4e91-8901-a2d5b760679b",
   "metadata": {},
   "outputs": [
    {
     "data": {
      "text/plain": [
       "26"
      ]
     },
     "execution_count": 35,
     "metadata": {},
     "output_type": "execute_result"
    }
   ],
   "source": [
    "np.sum([n1, n2])"
   ]
  },
  {
   "cell_type": "code",
   "execution_count": 36,
   "id": "fbc9c3c7-76ed-4f14-b4b9-024b92f0dc42",
   "metadata": {},
   "outputs": [
    {
     "data": {
      "text/plain": [
       "array([ 3,  5,  8, 10])"
      ]
     },
     "execution_count": 36,
     "metadata": {},
     "output_type": "execute_result"
    }
   ],
   "source": [
    "np.sum([n1, n2], axis = 0)"
   ]
  },
  {
   "cell_type": "code",
   "execution_count": 37,
   "id": "fa1148b1-7105-410f-bc90-ba68f5b47283",
   "metadata": {},
   "outputs": [
    {
     "data": {
      "text/plain": [
       "array([10, 16])"
      ]
     },
     "execution_count": 37,
     "metadata": {},
     "output_type": "execute_result"
    }
   ],
   "source": [
    "np.sum([n1, n2], axis = 1)"
   ]
  },
  {
   "cell_type": "code",
   "execution_count": 38,
   "id": "cf4964b1-4604-4338-80b6-b6362da9d293",
   "metadata": {},
   "outputs": [
    {
     "data": {
      "text/plain": [
       "array([2, 3, 4, 5])"
      ]
     },
     "execution_count": 38,
     "metadata": {},
     "output_type": "execute_result"
    }
   ],
   "source": [
    "n1 + 1"
   ]
  },
  {
   "cell_type": "markdown",
   "id": "1dacff28-ab60-407d-bcab-c7bf66728d73",
   "metadata": {},
   "source": [
    "***stats operations***"
   ]
  },
  {
   "cell_type": "code",
   "execution_count": 39,
   "id": "b5d5ee1e-286a-4e73-a617-d61088902000",
   "metadata": {},
   "outputs": [
    {
     "data": {
      "text/plain": [
       "2.5"
      ]
     },
     "execution_count": 39,
     "metadata": {},
     "output_type": "execute_result"
    }
   ],
   "source": [
    "np.mean(n1)"
   ]
  },
  {
   "cell_type": "code",
   "execution_count": 40,
   "id": "171dd9f6-334f-437a-81e9-0d0bc5de9645",
   "metadata": {},
   "outputs": [
    {
     "data": {
      "text/plain": [
       "2.5"
      ]
     },
     "execution_count": 40,
     "metadata": {},
     "output_type": "execute_result"
    }
   ],
   "source": [
    "np.median(n1)"
   ]
  },
  {
   "cell_type": "code",
   "execution_count": 41,
   "id": "7e6e3f05-c56e-4e4e-b657-9c790b9c158e",
   "metadata": {},
   "outputs": [
    {
     "data": {
      "text/plain": [
       "1.118033988749895"
      ]
     },
     "execution_count": 41,
     "metadata": {},
     "output_type": "execute_result"
    }
   ],
   "source": [
    "np.std(n1)"
   ]
  },
  {
   "cell_type": "markdown",
   "id": "a6862e38-fd86-40e4-9d11-ea59c93c27a0",
   "metadata": {},
   "source": [
    "***accessing rows and columns of matrix formed***"
   ]
  },
  {
   "cell_type": "code",
   "execution_count": 42,
   "id": "b231b570-4a3c-4199-9b64-0e416eb13b1c",
   "metadata": {},
   "outputs": [],
   "source": [
    "n1 = np.array([[1, 2, 2], [4, 5, 6], [7, 8, 9]])"
   ]
  },
  {
   "cell_type": "code",
   "execution_count": 43,
   "id": "be22fbd9-76fe-4110-9fc2-02e73ab7c9c8",
   "metadata": {},
   "outputs": [],
   "source": [
    "n2 = np.array([[2, 3, 6], [6, 3, 7], [1, 9, 3]])"
   ]
  },
  {
   "cell_type": "code",
   "execution_count": 44,
   "id": "00f0126f-7c32-470f-b5c1-0711d0e4caae",
   "metadata": {},
   "outputs": [
    {
     "data": {
      "text/plain": [
       "array([[1, 2, 2],\n",
       "       [4, 5, 6],\n",
       "       [7, 8, 9]])"
      ]
     },
     "execution_count": 44,
     "metadata": {},
     "output_type": "execute_result"
    }
   ],
   "source": [
    "n1\n"
   ]
  },
  {
   "cell_type": "code",
   "execution_count": 45,
   "id": "81d6f1a9-c484-47bc-aae9-90732237fb20",
   "metadata": {},
   "outputs": [
    {
     "data": {
      "text/plain": [
       "array([4, 5, 6])"
      ]
     },
     "execution_count": 45,
     "metadata": {},
     "output_type": "execute_result"
    }
   ],
   "source": [
    "n1[1]"
   ]
  },
  {
   "cell_type": "code",
   "execution_count": 46,
   "id": "08799170-57b7-464c-9259-e8c28e01c1d7",
   "metadata": {},
   "outputs": [
    {
     "data": {
      "text/plain": [
       "array([2, 6, 9])"
      ]
     },
     "execution_count": 46,
     "metadata": {},
     "output_type": "execute_result"
    }
   ],
   "source": [
    "n1[:,2]"
   ]
  },
  {
   "cell_type": "markdown",
   "id": "7b74b840-eeb0-4320-bb68-353ded247c25",
   "metadata": {},
   "source": [
    "***transpose of matrix***"
   ]
  },
  {
   "cell_type": "code",
   "execution_count": 47,
   "id": "75acf0a3-235c-47b2-935a-2aed5dde725e",
   "metadata": {},
   "outputs": [
    {
     "data": {
      "text/plain": [
       "array([[1, 4, 7],\n",
       "       [2, 5, 8],\n",
       "       [2, 6, 9]])"
      ]
     },
     "execution_count": 47,
     "metadata": {},
     "output_type": "execute_result"
    }
   ],
   "source": [
    "n1.transpose()"
   ]
  },
  {
   "cell_type": "markdown",
   "id": "66b29ea8-2d63-41b8-a880-fae138ddf67d",
   "metadata": {},
   "source": [
    "***dot product of matrices***"
   ]
  },
  {
   "cell_type": "code",
   "execution_count": 48,
   "id": "be67b401-9863-45e8-b62d-5dbea16488ab",
   "metadata": {},
   "outputs": [
    {
     "data": {
      "text/plain": [
       "array([[ 16,  27,  26],\n",
       "       [ 44,  81,  77],\n",
       "       [ 71, 126, 125]])"
      ]
     },
     "execution_count": 48,
     "metadata": {},
     "output_type": "execute_result"
    }
   ],
   "source": [
    "n1.dot(n2)"
   ]
  },
  {
   "cell_type": "code",
   "execution_count": 49,
   "id": "858f5d66-2c77-4642-aa02-e097970bdda4",
   "metadata": {},
   "outputs": [
    {
     "data": {
      "text/plain": [
       "array([[56, 67, 76],\n",
       "       [67, 83, 93],\n",
       "       [58, 71, 83]])"
      ]
     },
     "execution_count": 49,
     "metadata": {},
     "output_type": "execute_result"
    }
   ],
   "source": [
    "n2.dot(n1)"
   ]
  },
  {
   "cell_type": "markdown",
   "id": "bbb8d1aa-261c-40cc-926e-b97cea90fc22",
   "metadata": {},
   "source": [
    "***saving and loading***"
   ]
  },
  {
   "cell_type": "code",
   "execution_count": 50,
   "id": "a5d3964d-5f1d-4432-b3d6-c190ca15855b",
   "metadata": {},
   "outputs": [],
   "source": [
    "np.save('new_array', n1)"
   ]
  },
  {
   "cell_type": "code",
   "execution_count": 51,
   "id": "230aecb2-88d7-4510-a94b-14af30abc0b9",
   "metadata": {},
   "outputs": [],
   "source": [
    "n2 = np.load('new_array.npy')"
   ]
  },
  {
   "cell_type": "code",
   "execution_count": 52,
   "id": "5c8507d7-923c-46ee-ae34-f8128f613d42",
   "metadata": {},
   "outputs": [
    {
     "data": {
      "text/plain": [
       "array([[1, 2, 2],\n",
       "       [4, 5, 6],\n",
       "       [7, 8, 9]])"
      ]
     },
     "execution_count": 52,
     "metadata": {},
     "output_type": "execute_result"
    }
   ],
   "source": [
    "n2"
   ]
  }
 ],
 "metadata": {
  "kernelspec": {
   "display_name": "Python 3 (ipykernel)",
   "language": "python",
   "name": "python3"
  },
  "language_info": {
   "codemirror_mode": {
    "name": "ipython",
    "version": 3
   },
   "file_extension": ".py",
   "mimetype": "text/x-python",
   "name": "python",
   "nbconvert_exporter": "python",
   "pygments_lexer": "ipython3",
   "version": "3.11.5"
  }
 },
 "nbformat": 4,
 "nbformat_minor": 5
}
